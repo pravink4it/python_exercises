set_password = "hello"
enter_password = str(input("Enter Password"))

if(set_password!=enter_password):
    print("wrong password ... try 2 more time out of 2")
    enter_password = str(input("Enter Password"))
    if(set_password!=enter_password):
        print("wrong password ... try 1 more time 1")
        enter_password = str(input("Enter Password"))
        if(set_password!=enter_password):
            print("wrong password ... try 0 more time 0")
else:
    ans1=2
    ans2=3
    print('1. Who invented Java Programming?')
    print('1. ) Guido van Rossum')
    print('2. ) James Gosling')
    print('3. ) Dennis Ritchie')
    print('4. ) Bjarne Stroustrup')

    ques1_ans = int(input("Enter Option for Question 1"))

    if(ques1_ans==ans1):
        print('2. Which component is used to compile, debug and execute the java programs?')
        print('1. ) JRE')
        print('2. ) JIT')
        print('3. ) JDK')
        print('4. ) JVM')

        ques2_ans = int(input("Enter Option for Question 2"))
        if(ques2_ans==ans2):
            print('Well done...! Quiz Completed')
        else:
            print('Wrong Answer of Question 2')    
    else:
        print('Wrong Answer of Question 1') 

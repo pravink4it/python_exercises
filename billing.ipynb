food=[]
foodPrices=[]
food_list_size=int(input('Enter food list size'))
for i in range(food_list_size):
    j=i+1
    itemNumer=str(j)
    foodEle=str(input('Enter food item '+itemNumer))
    food.append(foodEle)


for itemName in food:
    foodEle=str(input('Enter Price of '+itemName+' ='))
    foodPrices.append(foodEle)

total_price=0
for i in range(food_list_size):
    j=i+1
    food_name=str(food[i])
    food_price=str(foodPrices[i])
    food_str=str(j)+'. '+food_name+' = '+food_price+' /-'
    total_price=total_price+int(foodPrices[i])
    print(food_str)
print('Total = ',total_price) 
